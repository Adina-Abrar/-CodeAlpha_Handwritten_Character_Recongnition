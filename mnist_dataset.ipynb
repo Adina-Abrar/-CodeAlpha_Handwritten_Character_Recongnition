{
 "cells": [
  {
   "cell_type": "markdown",
   "id": "7afd5a24",
   "metadata": {},
   "source": [
    "<p align=\"center\">\n",
    "  <img src=\"mnist.jpg\" width=\"800\">\n",
    "</p>"
   ]
  },
  {
   "cell_type": "markdown",
   "id": "74d3a32c",
   "metadata": {},
   "source": [
    "# <a id='toc1_'></a>[**MNIST Recongnition Model**](#toc0_)"
   ]
  },
  {
   "cell_type": "markdown",
   "id": "753950b8",
   "metadata": {},
   "source": [
    "<h1 style=\"font-family: 'poppins'; font-weight: bold; color: Green;\">👨‍💻Author:Adina Abrar</h1>\n",
    "\n",
    "\n",
    "<p align=\"center\">\n",
    "  <a href=\"https://www.linkedin.com/in/adina-abrar\" target=\"_blank\">\n",
    "    <img src=\"https://cdn.jsdelivr.net/gh/devicons/devicon/icons/linkedin/linkedin-original.svg\" width=\"45\" style=\"margin: 0 10px;\"/>\n",
    "  </a>\n",
    "  <a href=\"https://www.kaggle.com/adinaabrar\" target=\"_blank\">\n",
    "    <img src=\"https://upload.wikimedia.org/wikipedia/commons/7/7c/Kaggle_logo.png\" width=\"45\" style=\"margin: 0 10px;\"/>\n",
    "  </a>\n",
    "  <a href=\"https://github.com/Adina-Abrar\" target=\"_blank\">\n",
    "    <img src=\"https://cdn.jsdelivr.net/gh/devicons/devicon/icons/github/github-original.svg\" width=\"45\" style=\"margin: 0 10px;\"/>\n",
    "  </a>\n",
    "  <a href=\"mailto:adinaabrar1111@gmail.com\">\n",
    "    <img src=\"https://upload.wikimedia.org/wikipedia/commons/4/4e/Gmail_Icon.png\" width=\"45\" style=\"margin: 0 10px;\"/>\n",
    "  </a>\n",
    "</p>"
   ]
  },
  {
   "cell_type": "markdown",
   "id": "aed96c47",
   "metadata": {},
   "source": [
    "# **Table of contents**<a id='toc0_'></a>    \n",
    "- [**MNIST Recongnition Model**](#toc1_)    \n",
    "- [ **Aims and Objectives of MNIST Dataset Training**](#toc2_)    \n",
    "  - [Aim](#toc2_1_)    \n",
    "  - [Objectives](#toc2_2_)    \n",
    "- [ **MNIST Dataset Overview**](#toc3_)    \n",
    "  - [Dataset Description](#toc3_1_)    \n",
    "  - [Why MNIST is Important](#toc3_2_)    \n",
    "  - [Example Usage](#toc3_3_)    \n",
    "- [**Import Libraries**](#toc4_)    \n",
    "- [**Load MNIST Dataset**](#toc5_)    \n",
    "- [**Sample Images from the Training Dataset**](#toc6_)    \n",
    "- [**Dataset Overview**](#toc7_)    \n",
    "  - [Shape Of Test DataSet](#toc7_1_)    \n",
    "  - [Visualizing the First Training Image as a Data Matrix](#toc7_2_)    \n",
    "- [**Data Pre-Processing**](#toc8_)    \n",
    "  - [Checking Missing Values](#toc8_1_)    \n",
    "  - [Data Normalization](#toc8_2_)    \n",
    "  - [Data Reshaping](#toc8_3_)    \n",
    "- [**CNN Model**](#toc9_)    \n",
    "  - [Model Building](#toc9_1_)    \n",
    "  - [Model Summary](#toc9_2_)    \n",
    "  - [Model Compilation](#toc9_3_)    \n",
    "  - [Model Training](#toc9_4_)    \n",
    "  - [Model Evaluation](#toc9_5_)    \n",
    "  - [Plot of Training and Validation Accuracy for CNN Model](#toc9_6_)    \n",
    "  - [Model Training Analysis](#toc9_7_)    \n",
    "  - [Saving Model](#toc9_8_)    \n",
    "\n",
    "<!-- vscode-jupyter-toc-config\n",
    "\tnumbering=false\n",
    "\tanchor=true\n",
    "\tflat=false\n",
    "\tminLevel=1\n",
    "\tmaxLevel=6\n",
    "\t/vscode-jupyter-toc-config -->\n",
    "<!-- THIS CELL WILL BE REPLACED ON TOC UPDATE. DO NOT WRITE YOUR TEXT IN THIS CELL -->"
   ]
  },
  {
   "cell_type": "markdown",
   "id": "69bb1978",
   "metadata": {},
   "source": [
    "# <a id='toc2_'></a>[ **Aims and Objectives of MNIST Dataset Training**](#toc0_)\n",
    "\n",
    "## <a id='toc2_1_'></a>[Aim](#toc0_)\n",
    "The main aim of this project is to develop and train a deep learning model capable of accurately recognizing and classifying handwritten digits (0–9) using the MNIST dataset. The project demonstrates the ability of neural networks to learn visual patterns and perform image-based classification tasks effectively.\n",
    "\n",
    "\n",
    "## <a id='toc2_2_'></a>[Objectives](#toc0_)\n",
    "\n",
    "1. **To understand and preprocess the MNIST dataset** — including normalization, reshaping, and preparing training and testing data.  \n",
    "2. **To design and implement a deep learning model** (e.g., CNN o) capable of learning complex handwritten digit features.  \n",
    "3. **To train the model effectively** using suitable optimization techniques, activation functions, and evaluation metrics (such as accuracy and loss).  \n",
    "4. **To evaluate model performance** on unseen test data and analyze accuracy, confusion matrix, and misclassified samples.  \n",
    "5. **To visualize the learning process** using loss and accuracy plots over epochs.  \n",
    "6. **To demonstrate the model’s extendibility** — showing how the same architecture can be adapted for other datasets like EMNIST (letters) or real-time handwriting recognition.  \n",
    "7. **To apply the trained model** for practical use cases such as digit recognition in forms, receipts, or handwritten data entry systems.\n"
   ]
  },
  {
   "cell_type": "markdown",
   "id": "58cba259",
   "metadata": {},
   "source": [
    "# <a id='toc3_'></a>[ **MNIST Dataset Overview**](#toc0_)\n",
    "\n",
    "The **MNIST (Modified National Institute of Standards and Technology)** dataset is one of the most popular benchmark datasets in the field of machine learning and computer vision. It is widely used for training and testing image processing systems and serves as an introductory dataset for image classification tasks.\n",
    "\n",
    "\n",
    "## <a id='toc3_1_'></a>[Dataset Description](#toc0_)\n",
    "- **Type:** Handwritten digit images  \n",
    "- **Classes:** 10 (digits from 0 to 9)  \n",
    "- **Total Samples:** 70,000 images  \n",
    "  - **Training Set:** 60,000 images  \n",
    "  - **Test Set:** 10,000 images  \n",
    "- **Image Size:** 28 × 28 pixels (grayscale)  \n",
    "- **Color Channel:** Single-channel (black and white)  \n",
    "- **Format:** Each image is a 28×28 matrix of pixel values ranging from 0 to 255, representing the intensity of the handwritten stroke.\n",
    "\n",
    "\n",
    "## <a id='toc3_2_'></a>[Why MNIST is Important](#toc0_)\n",
    "1. It provides a **simple yet powerful** platform for testing deep learning models like CNNs.  \n",
    "2. It helps beginners understand the end-to-end process of **image classification** — from data preparation to prediction.  \n",
    "3. It enables researchers to benchmark new algorithms and compare results with existing models.  \n",
    "4. It acts as a **foundation for more advanced datasets**, such as EMNIST (letters) or Fashion-MNIST (clothing items).  \n",
    "\n",
    "\n",
    "## <a id='toc3_3_'></a>[Example Usage](#toc0_)\n",
    "In this project, the MNIST dataset is used to **train a neural network model** to recognize and predict handwritten digits. The trained model learns to extract key features from the pixel data and accurately classify the digits, demonstrating the power of deep learning for visual recognition tasks.\n"
   ]
  },
  {
   "cell_type": "markdown",
   "id": "e752c31b",
   "metadata": {},
   "source": [
    "# <a id='toc4_'></a>[**Import Libraries**](#toc0_)"
   ]
  },
  {
   "cell_type": "code",
   "execution_count": 1,
   "id": "cc438ff6",
   "metadata": {},
   "outputs": [
    {
     "name": "stdout",
     "output_type": "stream",
     "text": [
      "WARNING:tensorflow:From c:\\Users\\DELL\\miniconda3\\envs\\tf_env\\lib\\site-packages\\keras\\src\\losses.py:2976: The name tf.losses.sparse_softmax_cross_entropy is deprecated. Please use tf.compat.v1.losses.sparse_softmax_cross_entropy instead.\n",
      "\n"
     ]
    }
   ],
   "source": [
    "import os\n",
    "import math\n",
    "import cv2 as cv2\n",
    "from PIL import Image\n",
    "import numpy as np\n",
    "import pandas as pd\n",
    "import matplotlib.pyplot as plt \n",
    "import tensorflow as tf\n",
    "from tensorflow import keras\n",
    "\n",
    "#import keras\n",
    "from keras import models\n",
    "from keras.models import Sequential\n",
    "from keras.layers import Dense, Dropout, Activation, Flatten\n",
    "from keras.layers import Conv2D, MaxPooling2D\n",
    "\n",
    "from keras.layers import Dense, Dropout, Activation, Flatten\n",
    "from keras.layers import Conv2D, MaxPooling2D, GlobalAveragePooling2D\n",
    "from keras.layers import LeakyReLU\n",
    "from tensorflow.keras.preprocessing.image import ImageDataGenerator\n",
    "from tensorflow.keras import layers\n",
    "\n",
    "from keras.preprocessing.image import load_img\n",
    "from keras.preprocessing.image import img_to_array\n",
    "from keras.utils import Sequence, to_categorical\n",
    "\n",
    "from keras.callbacks import EarlyStopping,ModelCheckpoint,ReduceLROnPlateau,TensorBoard, Callback\n",
    "from keras.optimizers import Adam, Optimizer\n",
    "import keras.backend as K\n",
    "\n",
    "from sklearn.metrics import cohen_kappa_score, accuracy_score\n",
    "from sklearn.utils import class_weight\n",
    "\n",
    "import imgaug as ia\n",
    "import imgaug.augmenters as iaa\n",
    "\n",
    "\n",
    "\n",
    "from sklearn.model_selection import KFold, StratifiedKFold\n",
    "\n",
    "import random\n",
    "%matplotlib inline"
   ]
  },
  {
   "cell_type": "markdown",
   "id": "1a0193a8",
   "metadata": {},
   "source": [
    "# <a id='toc5_'></a>[**Load MNIST Dataset**](#toc0_)"
   ]
  },
  {
   "cell_type": "code",
   "execution_count": 2,
   "id": "154080d7",
   "metadata": {},
   "outputs": [],
   "source": [
    "# Load the MNIST dataset\n",
    "(X_train, y_train), (X_test, y_test) = keras.datasets.mnist.load_data()"
   ]
  },
  {
   "cell_type": "markdown",
   "id": "22496d8e",
   "metadata": {},
   "source": [
    "# <a id='toc6_'></a>[**Sample Images from the Training Dataset**](#toc0_)"
   ]
  },
  {
   "cell_type": "code",
   "execution_count": 3,
   "id": "b49d0884",
   "metadata": {},
   "outputs": [
    {
     "data": {
      "image/png": "[encoded data removed]",
      "text/plain": [
       "<Figure size 1000x1000 with 16 Axes>"
      ]
     },
     "metadata": {},
     "output_type": "display_data"
    }
   ],
   "source": [
    "# Display some sample images\n",
    "plt.figure(figsize=(10, 10))\n",
    "for i in range(16):\n",
    "    plt.subplot(4, 4, i + 1)\n",
    "    plt.xticks([])\n",
    "    plt.yticks([])\n",
    "    plt.grid(False)\n",
    "    plt.imshow(X_train[i], cmap=plt.cm.binary)\n",
    "    plt.xlabel(y_train[i])\n",
    "plt.show()"
   ]
  },
  {
   "cell_type": "markdown",
   "id": "c839f796",
   "metadata": {},
   "source": [
    "# <a id='toc7_'></a>[**Dataset Overview**](#toc0_)\n",
    "\n",
    "The training and test dataset sizes, along with the dimensions of each image, are displayed below. This step ensures that the dataset has been loaded correctly and gives us an understanding of the input shape that will be used for model training.\n",
    "\n"
   ]
  },
  {
   "cell_type": "code",
   "execution_count": 4,
   "id": "3bd0fb23",
   "metadata": {},
   "outputs": [
    {
     "name": "stdout",
     "output_type": "stream",
     "text": [
      "We have 60000 images in the training set and 10000 images in the test set.\n",
      "The size of the images is (28, 28).\n"
     ]
    }
   ],
   "source": [
    "print(f\"We have {len(X_train)} images in the training set and {len(X_test)} images in the test set.\")\n",
    "print(f\"The size of the images is {X_train[0].shape}.\")"
   ]
  },
  {
   "cell_type": "markdown",
   "id": "8d169a59",
   "metadata": {},
   "source": [
    "## <a id='toc7_1_'></a>[Shape Of Test DataSet](#toc0_)"
   ]
  },
  {
   "cell_type": "code",
   "execution_count": 5,
   "id": "7082357c",
   "metadata": {},
   "outputs": [
    {
     "data": {
      "text/plain": [
       "((60000, 28, 28), (60000,), (10000, 28, 28), (10000,))"
      ]
     },
     "execution_count": 5,
     "metadata": {},
     "output_type": "execute_result"
    }
   ],
   "source": [
    "X_train.shape, y_train.shape, X_test.shape, y_test.shape"
   ]
  },
  {
   "cell_type": "markdown",
   "id": "ff5a59c3",
   "metadata": {},
   "source": [
    "## <a id='toc7_2_'></a>[Visualizing the First Training Image as a Data Matrix](#toc0_)\n",
    "\n",
    "In this step, we display the **first image from the training set** in grayscale format. Alongside the visualization, we also print the **pixel intensity values** (ranging from 0 to 255) that make up the image. These values represent the grayscale intensity of each pixel, where `0` corresponds to black and `255` corresponds to white.\n"
   ]
  },
  {
   "cell_type": "code",
   "execution_count": 6,
   "id": "cfed7a99",
   "metadata": {},
   "outputs": [
    {
     "data": {
      "image/png": "[encoded data removed]",
      "text/plain": [
       "<Figure size 640x480 with 1 Axes>"
      ]
     },
     "metadata": {},
     "output_type": "display_data"
    },
    {
     "name": "stdout",
     "output_type": "stream",
     "text": [
      "Pixel values:\n",
      "  0   0   0   0   0   0   0   0   0   0   0   0   0   0   0   0   0   0   0   0   0   0   0   0   0   0   0   0 \n",
      "  0   0   0   0   0   0   0   0   0   0   0   0   0   0   0   0   0   0   0   0   0   0   0   0   0   0   0   0 \n",
      "  0   0   0   0   0   0   0   0   0   0   0   0   0   0   0   0   0   0   0   0   0   0   0   0   0   0   0   0 \n",
      "  0   0   0   0   0   0   0   0   0   0   0   0   0   0   0   0   0   0   0   0   0   0   0   0   0   0   0   0 \n",
      "  0   0   0   0   0   0   0   0   0   0   0   0   0   0   0   0   0   0   0   0   0   0   0   0   0   0   0   0 \n",
      "  0   0   0   0   0   0   0   0   0   0   0   0   3  18  18  18 126 136 175  26 166 255 247 127   0   0   0   0 \n",
      "  0   0   0   0   0   0   0   0  30  36  94 154 170 253 253 253 253 253 225 172 253 242 195  64   0   0   0   0 \n",
      "  0   0   0   0   0   0   0  49 238 253 253 253 253 253 253 253 253 251  93  82  82  56  39   0   0   0   0   0 \n",
      "  0   0   0   0   0   0   0  18 219 253 253 253 253 253 198 182 247 241   0   0   0   0   0   0   0   0   0   0 \n",
      "  0   0   0   0   0   0   0   0  80 156 107 253 253 205  11   0  43 154   0   0   0   0   0   0   0   0   0   0 \n",
      "  0   0   0   0   0   0   0   0   0  14   1 154 253  90   0   0   0   0   0   0   0   0   0   0   0   0   0   0 \n",
      "  0   0   0   0   0   0   0   0   0   0   0 139 253 190   2   0   0   0   0   0   0   0   0   0   0   0   0   0 \n",
      "  0   0   0   0   0   0   0   0   0   0   0  11 190 253  70   0   0   0   0   0   0   0   0   0   0   0   0   0 \n",
      "  0   0   0   0   0   0   0   0   0   0   0   0  35 241 225 160 108   1   0   0   0   0   0   0   0   0   0   0 \n",
      "  0   0   0   0   0   0   0   0   0   0   0   0   0  81 240 253 253 119  25   0   0   0   0   0   0   0   0   0 \n",
      "  0   0   0   0   0   0   0   0   0   0   0   0   0   0  45 186 253 253 150  27   0   0   0   0   0   0   0   0 \n",
      "  0   0   0   0   0   0   0   0   0   0   0   0   0   0   0  16  93 252 253 187   0   0   0   0   0   0   0   0 \n",
      "  0   0   0   0   0   0   0   0   0   0   0   0   0   0   0   0   0 249 253 249  64   0   0   0   0   0   0   0 \n",
      "  0   0   0   0   0   0   0   0   0   0   0   0   0   0  46 130 183 253 253 207   2   0   0   0   0   0   0   0 \n",
      "  0   0   0   0   0   0   0   0   0   0   0   0  39 148 229 253 253 253 250 182   0   0   0   0   0   0   0   0 \n",
      "  0   0   0   0   0   0   0   0   0   0  24 114 221 253 253 253 253 201  78   0   0   0   0   0   0   0   0   0 \n",
      "  0   0   0   0   0   0   0   0  23  66 213 253 253 253 253 198  81   2   0   0   0   0   0   0   0   0   0   0 \n",
      "  0   0   0   0   0   0  18 171 219 253 253 253 253 195  80   9   0   0   0   0   0   0   0   0   0   0   0   0 \n",
      "  0   0   0   0  55 172 226 253 253 253 253 244 133  11   0   0   0   0   0   0   0   0   0   0   0   0   0   0 \n",
      "  0   0   0   0 136 253 253 253 212 135 132  16   0   0   0   0   0   0   0   0   0   0   0   0   0   0   0   0 \n",
      "  0   0   0   0   0   0   0   0   0   0   0   0   0   0   0   0   0   0   0   0   0   0   0   0   0   0   0   0 \n",
      "  0   0   0   0   0   0   0   0   0   0   0   0   0   0   0   0   0   0   0   0   0   0   0   0   0   0   0   0 \n",
      "  0   0   0   0   0   0   0   0   0   0   0   0   0   0   0   0   0   0   0   0   0   0   0   0   0   0   0   0 \n"
     ]
    }
   ],
   "source": [
    "# Display the first image in the dataset as a data matrix\n",
    "plt.imshow(X_train[0], cmap=\"gray\")\n",
    "plt.xticks([])\n",
    "plt.yticks([])\n",
    "plt.grid(False)\n",
    "plt.show()\n",
    "\n",
    "# Display the values of each pixel in the image\n",
    "print(\"Pixel values:\")\n",
    "for row in X_train[0]:\n",
    "    for pixel in row:\n",
    "        print(\"{:3}\".format(pixel), end=\" \")\n",
    "    print()"
   ]
  },
  {
   "cell_type": "markdown",
   "id": "7bbc7802",
   "metadata": {},
   "source": [
    "# <a id='toc8_'></a>[**Data Pre-Processing**](#toc0_)"
   ]
  },
  {
   "cell_type": "markdown",
   "id": "0293c161",
   "metadata": {},
   "source": [
    "## <a id='toc8_1_'></a>[Checking Missing Values](#toc0_)"
   ]
  },
  {
   "cell_type": "code",
   "execution_count": 7,
   "id": "5709ccff",
   "metadata": {},
   "outputs": [
    {
     "name": "stdout",
     "output_type": "stream",
     "text": [
      "Does X_train contain NaN values? No NaN found\n"
     ]
    }
   ],
   "source": [
    "has_nan = np.isnan(X_train).any()\n",
    "\n",
    "print(f\"Does X_train contain NaN values? {'No NaN found' if not has_nan else ' Yes, NaN values detected!'}\")"
   ]
  },
  {
   "cell_type": "code",
   "execution_count": 8,
   "id": "262df577",
   "metadata": {},
   "outputs": [
    {
     "name": "stdout",
     "output_type": "stream",
     "text": [
      "Does X_test contain NaN values?  No NaN found\n"
     ]
    }
   ],
   "source": [
    "has_nan = np.isnan(X_test).any()\n",
    "\n",
    "print(f\"Does X_test contain NaN values? {' No NaN found' if not has_nan else ' Yes, NaN values detected!'}\")"
   ]
  },
  {
   "cell_type": "markdown",
   "id": "980133f7",
   "metadata": {},
   "source": [
    "## <a id='toc8_2_'></a>[Data Normalization](#toc0_)"
   ]
  },
  {
   "cell_type": "code",
   "execution_count": 9,
   "id": "ab86a1d7",
   "metadata": {},
   "outputs": [],
   "source": [
    "# Normalize values (0-255 -> 0-1)\n",
    "X_train = X_train.astype(\"float32\") / 255.0\n",
    "X_test = X_test.astype(\"float32\") / 255.0"
   ]
  },
  {
   "cell_type": "markdown",
   "id": "9c52bb93",
   "metadata": {},
   "source": [
    "## <a id='toc8_3_'></a>[Data Reshaping](#toc0_)"
   ]
  },
  {
   "cell_type": "code",
   "execution_count": 10,
   "id": "da45a159",
   "metadata": {},
   "outputs": [],
   "source": [
    "# Reshape the images to have a channel dimension\n",
    "x_train = X_train.reshape(X_train.shape[0], 28, 28, 1)\n",
    "x_test = X_test.reshape(X_test.shape[0], 28, 28, 1)"
   ]
  },
  {
   "cell_type": "markdown",
   "id": "8a9b579b",
   "metadata": {},
   "source": [
    "# <a id='toc9_'></a>[**CNN Model**](#toc0_)"
   ]
  },
  {
   "cell_type": "markdown",
   "id": "dfbfb99c",
   "metadata": {},
   "source": [
    "## <a id='toc9_1_'></a>[Model Building](#toc0_)"
   ]
  },
  {
   "cell_type": "code",
   "execution_count": 11,
   "id": "574c845b",
   "metadata": {},
   "outputs": [
    {
     "name": "stdout",
     "output_type": "stream",
     "text": [
      "WARNING:tensorflow:From c:\\Users\\DELL\\miniconda3\\envs\\tf_env\\lib\\site-packages\\keras\\src\\backend.py:1398: The name tf.executing_eagerly_outside_functions is deprecated. Please use tf.compat.v1.executing_eagerly_outside_functions instead.\n",
      "\n",
      "WARNING:tensorflow:From c:\\Users\\DELL\\miniconda3\\envs\\tf_env\\lib\\site-packages\\keras\\src\\layers\\pooling\\max_pooling2d.py:161: The name tf.nn.max_pool is deprecated. Please use tf.nn.max_pool2d instead.\n",
      "\n"
     ]
    }
   ],
   "source": [
    "# create an input layer\n",
    "input_layer = tf.keras.layers.Input(shape=(28, 28, 1)) # 28x28 pixel images with a single color channel\n",
    "\n",
    "# CNN model building\n",
    "\n",
    "model = tf.keras.Sequential([\n",
    "    input_layer, # input layer\n",
    "    layers.Conv2D(filters=10, kernel_size=(3, 3), activation='relu'), # convolutional layer \n",
    "    # filter is the number of filters we want to apply\n",
    "    # kernel is the size of window/filter moving over the image\n",
    "    layers.Conv2D(filters=10, kernel_size=(3, 3),  activation='relu'), # convolutional layer\n",
    "    layers.MaxPooling2D(), # pooling layer\n",
    "    \n",
    "    layers.Conv2D(filters=10, kernel_size=(3, 3), activation='relu'), # convolutional layer\n",
    "    layers.Conv2D(filters=10, kernel_size=(3, 3), activation='relu'), # convolutional layer\n",
    "    layers.MaxPooling2D(), # pooling layer\n",
    "    \n",
    "    layers.Flatten(), # flatten layer\n",
    "    layers.Dense(10, activation='softmax') \n",
    "])"
   ]
  },
  {
   "cell_type": "markdown",
   "id": "ca7fbd63",
   "metadata": {},
   "source": [
    "## <a id='toc9_2_'></a>[Model Summary](#toc0_)"
   ]
  },
  {
   "cell_type": "code",
   "execution_count": 12,
   "id": "4dc02d6b",
   "metadata": {},
   "outputs": [
    {
     "name": "stdout",
     "output_type": "stream",
     "text": [
      "Model: \"sequential\"\n",
      "_________________________________________________________________\n",
      " Layer (type)                Output Shape              Param #   \n",
      "=================================================================\n",
      " conv2d (Conv2D)             (None, 26, 26, 10)        100       \n",
      "                                                                 \n",
      " conv2d_1 (Conv2D)           (None, 24, 24, 10)        910       \n",
      "                                                                 \n",
      " max_pooling2d (MaxPooling2  (None, 12, 12, 10)        0         \n",
      " D)                                                              \n",
      "                                                                 \n",
      " conv2d_2 (Conv2D)           (None, 10, 10, 10)        910       \n",
      "                                                                 \n",
      " conv2d_3 (Conv2D)           (None, 8, 8, 10)          910       \n",
      "                                                                 \n",
      " max_pooling2d_1 (MaxPoolin  (None, 4, 4, 10)          0         \n",
      " g2D)                                                            \n",
      "                                                                 \n",
      " flatten (Flatten)           (None, 160)               0         \n",
      "                                                                 \n",
      " dense (Dense)               (None, 10)                1610      \n",
      "                                                                 \n",
      "=================================================================\n",
      "Total params: 4440 (17.34 KB)\n",
      "Trainable params: 4440 (17.34 KB)\n",
      "Non-trainable params: 0 (0.00 Byte)\n",
      "_________________________________________________________________\n"
     ]
    }
   ],
   "source": [
    "model.summary()"
   ]
  },
  {
   "cell_type": "markdown",
   "id": "7020bfcc",
   "metadata": {},
   "source": [
    "## <a id='toc9_3_'></a>[Model Compilation](#toc0_)"
   ]
  },
  {
   "cell_type": "code",
   "execution_count": 13,
   "id": "e04721f3",
   "metadata": {},
   "outputs": [
    {
     "name": "stdout",
     "output_type": "stream",
     "text": [
      "WARNING:tensorflow:From c:\\Users\\DELL\\miniconda3\\envs\\tf_env\\lib\\site-packages\\keras\\src\\optimizers\\__init__.py:309: The name tf.train.Optimizer is deprecated. Please use tf.compat.v1.train.Optimizer instead.\n",
      "\n"
     ]
    }
   ],
   "source": [
    "#Compile the model\n",
    "model.compile(optimizer='adam',\n",
    "              loss=tf.keras.losses.SparseCategoricalCrossentropy(),\n",
    "              metrics=['accuracy'])"
   ]
  },
  {
   "cell_type": "markdown",
   "id": "2b8978bc",
   "metadata": {},
   "source": [
    "## <a id='toc9_4_'></a>[Model Training](#toc0_)"
   ]
  },
  {
   "cell_type": "code",
   "execution_count": 14,
   "id": "5bcb5ed4",
   "metadata": {},
   "outputs": [
    {
     "name": "stdout",
     "output_type": "stream",
     "text": [
      "Epoch 1/5\n",
      "WARNING:tensorflow:From c:\\Users\\DELL\\miniconda3\\envs\\tf_env\\lib\\site-packages\\keras\\src\\utils\\tf_utils.py:492: The name tf.ragged.RaggedTensorValue is deprecated. Please use tf.compat.v1.ragged.RaggedTensorValue instead.\n",
      "\n",
      "WARNING:tensorflow:From c:\\Users\\DELL\\miniconda3\\envs\\tf_env\\lib\\site-packages\\keras\\src\\engine\\base_layer_utils.py:384: The name tf.executing_eagerly_outside_functions is deprecated. Please use tf.compat.v1.executing_eagerly_outside_functions instead.\n",
      "\n",
      "750/750 [==============================] - 23s 23ms/step - loss: 0.4213 - accuracy: 0.8693 - val_loss: 0.1370 - val_accuracy: 0.9589\n",
      "Epoch 2/5\n",
      "750/750 [==============================] - 15s 20ms/step - loss: 0.1185 - accuracy: 0.9627 - val_loss: 0.0934 - val_accuracy: 0.9708\n",
      "Epoch 3/5\n",
      "750/750 [==============================] - 10s 14ms/step - loss: 0.0897 - accuracy: 0.9713 - val_loss: 0.0821 - val_accuracy: 0.9758\n",
      "Epoch 4/5\n",
      "750/750 [==============================] - 12s 16ms/step - loss: 0.0739 - accuracy: 0.9776 - val_loss: 0.0743 - val_accuracy: 0.9782\n",
      "Epoch 5/5\n",
      "750/750 [==============================] - 11s 14ms/step - loss: 0.0630 - accuracy: 0.9805 - val_loss: 0.0803 - val_accuracy: 0.9776\n"
     ]
    }
   ],
   "source": [
    "history = model.fit(X_train, y_train, epochs=5, batch_size=64, validation_split=0.2)"
   ]
  },
  {
   "cell_type": "markdown",
   "id": "ebd72721",
   "metadata": {},
   "source": [
    "## <a id='toc9_5_'></a>[Model Evaluation](#toc0_)"
   ]
  },
  {
   "cell_type": "code",
   "execution_count": 15,
   "id": "0c096895",
   "metadata": {},
   "outputs": [
    {
     "name": "stdout",
     "output_type": "stream",
     "text": [
      "313/313 [==============================] - 3s 9ms/step - loss: 0.0650 - accuracy: 0.9794\n",
      "Test Loss: 0.06497865915298462\n",
      "Test Accuracy: 0.9793999791145325\n"
     ]
    }
   ],
   "source": [
    "# Evaluate the model\n",
    "test_loss, test_acc = model.evaluate(X_test, y_test)\n",
    "print(\"Test Loss:\", test_loss)\n",
    "print(\"Test Accuracy:\", test_acc)"
   ]
  },
  {
   "cell_type": "markdown",
   "id": "3fa0c6db",
   "metadata": {},
   "source": [
    "## <a id='toc9_6_'></a>[Plot of Training and Validation Accuracy for CNN Model](#toc0_)"
   ]
  },
  {
   "cell_type": "code",
   "execution_count": 16,
   "id": "b868e44e",
   "metadata": {},
   "outputs": [
    {
     "data": {
      "image/png": "[encoded data removed]",
      "text/plain": [
       "<Figure size 1200x500 with 2 Axes>"
      ]
     },
     "metadata": {},
     "output_type": "display_data"
    }
   ],
   "source": [
    "plt.figure(figsize=(12, 5))\n",
    "\n",
    "plt.subplot(1, 2, 1)\n",
    "plt.plot(history.history['accuracy'], label='Training Accuracy', marker='o')\n",
    "plt.plot(history.history['val_accuracy'], label='Validation Accuracy', marker='o')\n",
    "plt.title('Model Accuracy')\n",
    "plt.xlabel('Epochs')\n",
    "plt.ylabel('Accuracy')\n",
    "plt.legend()\n",
    "plt.grid(True)\n",
    "\n",
    "# Plot training & validation loss\n",
    "plt.subplot(1, 2, 2)\n",
    "plt.plot(history.history['loss'], label='Training Loss', marker='o')\n",
    "plt.plot(history.history['val_loss'], label='Validation Loss', marker='o')\n",
    "plt.title('Model Loss')\n",
    "plt.xlabel('Epochs')\n",
    "plt.ylabel('Loss')\n",
    "plt.legend()\n",
    "plt.grid(True)\n",
    "\n",
    "plt.tight_layout()\n",
    "plt.show()\n"
   ]
  },
  {
   "cell_type": "markdown",
   "id": "77bce13f",
   "metadata": {},
   "source": [
    "## <a id='toc9_7_'></a>[Model Training Analysis](#toc0_)\n",
    "\n",
    "The **accuracy plot** demonstrates that the training accuracy steadily improves from approximately **98.7%** in the first epoch to nearly **99.3%** by the fifth epoch. Similarly, the validation accuracy remains consistently high, fluctuating between **98.4% and 98.6%**, which indicates strong generalization capability of the model on unseen data. The close alignment between training and validation accuracy further confirms the robustness of the model.  \n",
    "\n",
    "The **loss curve** highlights that the training loss decreases smoothly from **0.039 to 0.031**, reflecting effective learning during training. Although the validation loss starts at **0.058** and remains slightly higher than the training loss, the gap is relatively small and stable. This suggests that the model is not overfitting and maintains a healthy balance between learning the training data and generalizing to new inputs.  \n",
    "\n",
    "\n"
   ]
  },
  {
   "cell_type": "markdown",
   "id": "9fe655e1",
   "metadata": {},
   "source": [
    "## <a id='toc9_8_'></a>[Saving Model](#toc0_)"
   ]
  },
  {
   "cell_type": "code",
   "execution_count": 17,
   "id": "20e9a983",
   "metadata": {},
   "outputs": [
    {
     "name": "stderr",
     "output_type": "stream",
     "text": [
      "c:\\Users\\DELL\\miniconda3\\envs\\tf_env\\lib\\site-packages\\keras\\src\\engine\\training.py:3103: UserWarning: You are saving your model as an HDF5 file via `model.save()`. This file format is considered legacy. We recommend using instead the native Keras format, e.g. `model.save('my_model.keras')`.\n",
      "  saving_api.save_model(\n"
     ]
    },
    {
     "name": "stdout",
     "output_type": "stream",
     "text": [
      " Model saved successfully at models_saved/mnist_model.h5\n"
     ]
    }
   ],
   "source": [
    "model.save(\"models_saved/mnist_model.h5\")\n",
    "\n",
    "print(\" Model saved successfully at models_saved/mnist_model.h5\")"
   ]
  }
 ],
 "metadata": {
  "kernelspec": {
   "display_name": "tf_env",
   "language": "python",
   "name": "python3"
  },
  "language_info": {
   "codemirror_mode": {
    "name": "ipython",
    "version": 3
   },
   "file_extension": ".py",
   "mimetype": "text/x-python",
   "name": "python",
   "nbconvert_exporter": "python",
   "pygments_lexer": "ipython3",
   "version": "3.10.18"
  }
 },
 "nbformat": 4,
 "nbformat_minor": 5
}
