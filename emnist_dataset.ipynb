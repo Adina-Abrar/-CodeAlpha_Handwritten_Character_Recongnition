{
 "cells": [
  {
   "cell_type": "markdown",
   "id": "0a567d1c",
   "metadata": {},
   "source": [
    "<p align=\"center\">\n",
    "  <img src=\"emnsit.jpg\" width=\"800\">\n",
    "</p>"
   ]
  },
  {
   "cell_type": "markdown",
   "id": "3d75332f",
   "metadata": {},
   "source": [
    "# <a id='toc1_'></a>[**EMNIST Recongnition Model**](#toc0_)"
   ]
  },
  {
   "cell_type": "markdown",
   "id": "d64e85bb",
   "metadata": {},
   "source": [
    "<h1 style=\"font-family: 'poppins'; font-weight: bold; color: Green;\">👨‍💻Author:Adina Abrar</h1>\n",
    "\n",
    "\n",
    "<p align=\"center\">\n",
    "  <a href=\"https://www.linkedin.com/in/adina-abrar\" target=\"_blank\">\n",
    "    <img src=\"https://cdn.jsdelivr.net/gh/devicons/devicon/icons/linkedin/linkedin-original.svg\" width=\"45\" style=\"margin: 0 10px;\"/>\n",
    "  </a>\n",
    "  <a href=\"https://www.kaggle.com/adinaabrar\" target=\"_blank\">\n",
    "    <img src=\"https://upload.wikimedia.org/wikipedia/commons/7/7c/Kaggle_logo.png\" width=\"45\" style=\"margin: 0 10px;\"/>\n",
    "  </a>\n",
    "  <a href=\"https://github.com/Adina-Abrar\" target=\"_blank\">\n",
    "    <img src=\"https://cdn.jsdelivr.net/gh/devicons/devicon/icons/github/github-original.svg\" width=\"45\" style=\"margin: 0 10px;\"/>\n",
    "  </a>\n",
    "  <a href=\"mailto:adinaabrar1111@gmail.com\">\n",
    "    <img src=\"https://upload.wikimedia.org/wikipedia/commons/4/4e/Gmail_Icon.png\" width=\"45\" style=\"margin: 0 10px;\"/>\n",
    "  </a>\n",
    "</p>"
   ]
  },
  {
   "cell_type": "markdown",
   "id": "70a572f7",
   "metadata": {},
   "source": [
    "# **Table of contents**<a id='toc0_'></a>    \n",
    "- [**EMNIST Recongnition Model**](#toc1_)    \n",
    "- [**Aims And Objectives**](#toc2_)    \n",
    "- [ **EMNIST Dataset Overview**](#toc3_)    \n",
    "  - [Dataset Description](#toc3_1_)    \n",
    "- [**Import Libraries**](#toc4_)    \n",
    "  - [**Load The DataSet**](#toc4_1_)    \n",
    "- [**Data Inspection**](#toc5_)    \n",
    "  - [DataSet Visualization](#toc5_1_)    \n",
    "  - [Dataset Shape](#toc5_2_)    \n",
    "  - [Train Test Shape](#toc5_3_)    \n",
    "  - [Visualizing an EMNIST Image and Its Label](#toc5_4_)    \n",
    "- [**Pre-Processing**](#toc6_)    \n",
    "  - [Checking Null Values](#toc6_1_)    \n",
    "  - [Converting EMNIST Dataset to Numpy Arrays and Normalizing](#toc6_2_)    \n",
    "- [**CNN Model**](#toc7_)    \n",
    "  - [Model Building](#toc7_1_)    \n",
    "  - [Model Summary](#toc7_2_)    \n",
    "  - [Model Training](#toc7_3_)    \n",
    "  - [Model Evaluation](#toc7_4_)    \n",
    "  - [Plot of Training and Validation Accuracy for CNN Model](#toc7_5_)    \n",
    "  - [Training Analysis](#toc7_6_)    \n",
    "  - [Saving Model](#toc7_7_)    \n",
    "\n",
    "<!-- vscode-jupyter-toc-config\n",
    "\tnumbering=false\n",
    "\tanchor=true\n",
    "\tflat=false\n",
    "\tminLevel=1\n",
    "\tmaxLevel=6\n",
    "\t/vscode-jupyter-toc-config -->\n",
    "<!-- THIS CELL WILL BE REPLACED ON TOC UPDATE. DO NOT WRITE YOUR TEXT IN THIS CELL -->"
   ]
  },
  {
   "cell_type": "markdown",
   "id": "d539cafb",
   "metadata": {},
   "source": [
    "# <a id='toc2_'></a>[**Aims And Objectives**](#toc0_)\n",
    "\n",
    "In this notebook, we will demonstrate how to perform **handwritten character recognition** on the **EMNIST dataset** using deep learning models. EMNIST is an extension of the classic MNIST dataset, containing **handwritten characters** instead of digits.\n",
    "\n",
    "We will:\n",
    "- Load and explore the **EMNIST dataset**.\n",
    "- Preprocess the data (resizing, normalization, one-hot encoding).\n",
    "- Build and train a model using **Convolutional Neural Networks (CNN)**.\n",
    "- Use **early stopping** to optimize training and avoid overfitting.\n",
    "\n"
   ]
  },
  {
   "cell_type": "markdown",
   "id": "3f42b7b6",
   "metadata": {},
   "source": [
    "# <a id='toc3_'></a>[ **EMNIST Dataset Overview**](#toc0_)\n",
    "\n",
    "The **EMNIST (Extended Modified National Institute of Standards and Technology)** dataset is an extension of the original MNIST dataset. It contains handwritten **letters and digits**, providing a more diverse and challenging dataset for character recognition tasks. EMNIST was introduced to bridge the gap between simple digit recognition and full alphanumeric character recognition, making it an excellent benchmark for deep learning models focused on handwriting recognition.\n",
    "\n",
    "\n",
    "## <a id='toc3_1_'></a>[Dataset Description](#toc0_)\n",
    "- **Type:** Handwritten characters (letters and digits)  \n",
    "- **Total Samples:** 814,255 images  \n",
    "- **Image Size:** 28 × 28 pixels (grayscale)  \n",
    "- **Color Channel:** Single-channel (black and white)  \n",
    "- **EMNIST Letters:** 26 classes (A–Z)  \n",
    " \n",
    "- **Data Split:**  \n",
    "  - **Training Set:** 697,932 images  \n",
    "  - **Testing Set:** 116,323 images  \n",
    "\n",
    "\n"
   ]
  },
  {
   "cell_type": "markdown",
   "id": "e0f8f959",
   "metadata": {},
   "source": [
    "# <a id='toc4_'></a>[**Import Libraries**](#toc0_)"
   ]
  },
  {
   "cell_type": "code",
   "execution_count": 2,
   "id": "e7cdf130",
   "metadata": {},
   "outputs": [
    {
     "name": "stdout",
     "output_type": "stream",
     "text": [
      "WARNING:tensorflow:From c:\\Users\\DELL\\miniconda3\\envs\\tf_env\\lib\\site-packages\\keras\\src\\losses.py:2976: The name tf.losses.sparse_softmax_cross_entropy is deprecated. Please use tf.compat.v1.losses.sparse_softmax_cross_entropy instead.\n",
      "\n"
     ]
    }
   ],
   "source": [
    "import tensorflow as tf\n",
    "import tensorflow_datasets as tfds\n",
    "import matplotlib.pyplot as plt\n",
    "import numpy as np\n",
    "import string\n",
    "import os\n",
    "\n",
    "import warnings\n",
    "warnings.filterwarnings('ignore')\n",
    "\n",
    "from tensorflow.keras import layers, models\n",
    "\n"
   ]
  },
  {
   "cell_type": "markdown",
   "id": "792c38a8",
   "metadata": {},
   "source": [
    "## <a id='toc4_1_'></a>[**Load The DataSet**](#toc0_)"
   ]
  },
  {
   "cell_type": "code",
   "execution_count": 3,
   "id": "49f82835",
   "metadata": {},
   "outputs": [],
   "source": [
    "# Load EMNIST Letters dataset\n",
    "(ds_train, ds_test), ds_info = tfds.load(\n",
    "    'emnist/letters',\n",
    "    split=['train', 'test'],\n",
    "    shuffle_files=True,\n",
    "    as_supervised=True,  # returns (image, label)\n",
    "    with_info=True\n",
    ")"
   ]
  },
  {
   "cell_type": "markdown",
   "id": "073cea9e",
   "metadata": {},
   "source": [
    "# <a id='toc5_'></a>[**Data Inspection**](#toc0_)"
   ]
  },
  {
   "cell_type": "code",
   "execution_count": 4,
   "id": "2c6fcd42",
   "metadata": {},
   "outputs": [
    {
     "name": "stdout",
     "output_type": "stream",
     "text": [
      "tfds.core.DatasetInfo(\n",
      "    name='emnist',\n",
      "    full_name='emnist/letters/3.1.0',\n",
      "    description=\"\"\"\n",
      "    The EMNIST dataset is a set of handwritten character digits derived from the NIST Special Database 19 and converted to a 28x28 pixel image format and dataset structure that directly matches the MNIST dataset.\n",
      "    \n",
      "    Note: Like the original EMNIST data, images provided here are inverted horizontally and rotated 90 anti-clockwise. You can use `tf.transpose` within `ds.map` to convert the images to a human-friendlier format.\n",
      "    \"\"\",\n",
      "    config_description=\"\"\"\n",
      "    EMNIST Letters\n",
      "    \"\"\",\n",
      "    homepage='https://www.nist.gov/itl/products-and-services/emnist-dataset',\n",
      "    data_dir='C:\\\\Users\\\\DELL\\\\tensorflow_datasets\\\\emnist\\\\letters\\\\3.1.0',\n",
      "    file_format=tfrecord,\n",
      "    download_size=535.73 MiB,\n",
      "    dataset_size=44.14 MiB,\n",
      "    features=FeaturesDict({\n",
      "        'image': Image(shape=(28, 28, 1), dtype=uint8),\n",
      "        'label': ClassLabel(shape=(), dtype=int64, num_classes=37),\n",
      "    }),\n",
      "    supervised_keys=('image', 'label'),\n",
      "    disable_shuffling=False,\n",
      "    nondeterministic_order=False,\n",
      "    splits={\n",
      "        'test': <SplitInfo num_examples=14800, num_shards=1>,\n",
      "        'train': <SplitInfo num_examples=88800, num_shards=1>,\n",
      "    },\n",
      "    citation=\"\"\"@article{cohen_afshar_tapson_schaik_2017,\n",
      "        title={EMNIST: Extending MNIST to handwritten letters},\n",
      "        DOI={10.1109/ijcnn.2017.7966217},\n",
      "        journal={2017 International Joint Conference on Neural Networks (IJCNN)},\n",
      "        author={Cohen, Gregory and Afshar, Saeed and Tapson, Jonathan and Schaik, Andre Van},\n",
      "        year={2017}\n",
      "    }\"\"\",\n",
      ")\n"
     ]
    }
   ],
   "source": [
    "print(ds_info)"
   ]
  },
  {
   "cell_type": "markdown",
   "id": "fa4444dd",
   "metadata": {},
   "source": [
    "## <a id='toc5_1_'></a>[DataSet Visualization](#toc0_)"
   ]
  },
  {
   "cell_type": "code",
   "execution_count": 5,
   "id": "e09bcbdd",
   "metadata": {},
   "outputs": [
    {
     "data": {
      "image/png": "[encoded data removed]",
      "text/plain": [
       "<Figure size 1000x1000 with 25 Axes>"
      ]
     },
     "metadata": {},
     "output_type": "display_data"
    }
   ],
   "source": [
    "label_map = {i: chr(96+i) for i in range(1, 27)}  \n",
    "\n",
    "def show_emnist_samples(dataset, n=25):\n",
    "    dataset = dataset.batch(n)   # take n samples as a batch\n",
    "    for images, labels in dataset.take(1):\n",
    "        images = images.numpy()\n",
    "        labels = labels.numpy()\n",
    "\n",
    "        plt.figure(figsize=(10,10))\n",
    "        for i in range(n):\n",
    "            plt.subplot(5,5,i+1)\n",
    "            plt.xticks([])\n",
    "            plt.yticks([])\n",
    "            plt.grid(False)\n",
    "\n",
    "            # Handle (28,28) or (28,28,1)\n",
    "            img = images[i]\n",
    "            if img.ndim == 3:\n",
    "                img = img.squeeze(-1)\n",
    "\n",
    "            plt.imshow(img, cmap=plt.cm.binary)\n",
    "\n",
    "            # Convert label number to letter (default = number if >26)\n",
    "            lbl = label_map.get(int(labels[i]), int(labels[i]))\n",
    "            plt.xlabel(lbl)\n",
    "        plt.show()\n",
    "\n",
    "# Call the function\n",
    "show_emnist_samples(ds_train, n=25)"
   ]
  },
  {
   "cell_type": "markdown",
   "id": "19130961",
   "metadata": {},
   "source": [
    "## <a id='toc5_2_'></a>[Dataset Shape](#toc0_)"
   ]
  },
  {
   "cell_type": "code",
   "execution_count": 6,
   "id": "42eef31c",
   "metadata": {},
   "outputs": [
    {
     "name": "stdout",
     "output_type": "stream",
     "text": [
      "Training set size: 88800\n",
      "Test set size: 14800\n",
      "Image shape: (28, 28, 1)\n",
      "Label: 25\n"
     ]
    }
   ],
   "source": [
    "# Number of samples comes from dataset info\n",
    "print(\"Training set size:\", ds_info.splits['train'].num_examples)\n",
    "print(\"Test set size:\", ds_info.splits['test'].num_examples)\n",
    "\n",
    "# Peek at one example\n",
    "for example in ds_train.take(1):\n",
    "    image, label = example\n",
    "    print(\"Image shape:\", image.shape)\n",
    "    print(\"Label:\", label.numpy())\n"
   ]
  },
  {
   "cell_type": "markdown",
   "id": "5cab3174",
   "metadata": {},
   "source": [
    "## <a id='toc5_3_'></a>[Train Test Shape](#toc0_)"
   ]
  },
  {
   "cell_type": "code",
   "execution_count": 7,
   "id": "1f1c51f7",
   "metadata": {},
   "outputs": [
    {
     "name": "stdout",
     "output_type": "stream",
     "text": [
      "Train images shape: (88800, 28, 28, 1)\n",
      "Train labels shape: (88800,)\n"
     ]
    }
   ],
   "source": [
    "train_images = []\n",
    "train_labels = []\n",
    "\n",
    "for image, label in tfds.as_numpy(ds_train):\n",
    "    train_images.append(image)\n",
    "    train_labels.append(label)\n",
    "\n",
    "train_images = np.array(train_images)\n",
    "train_labels = np.array(train_labels)\n",
    "\n",
    "print(\"Train images shape:\", train_images.shape)\n",
    "print(\"Train labels shape:\", train_labels.shape)"
   ]
  },
  {
   "cell_type": "markdown",
   "id": "ff71549d",
   "metadata": {},
   "source": [
    "## <a id='toc5_4_'></a>[Visualizing an EMNIST Image and Its Label](#toc0_)"
   ]
  },
  {
   "cell_type": "code",
   "execution_count": 8,
   "id": "15dabd12",
   "metadata": {},
   "outputs": [
    {
     "data": {
      "image/png": "[encoded data removed]",
      "text/plain": [
       "<Figure size 640x480 with 1 Axes>"
      ]
     },
     "metadata": {},
     "output_type": "display_data"
    },
    {
     "name": "stdout",
     "output_type": "stream",
     "text": [
      "Pixel values:\n",
      "  0   0   0   0   0   0   0   0   0   0   0   0   0   0   0   0   0   0   0   0   0   0   0   0   0   0   0   0\n",
      "  0   0   0   0   0   0   0   0   0   0   0   0   0   0   0   0   0   0   0   0   0   0   0   0   0   0   0   0\n",
      "  0   0   0   0   0   0   0   0   0   0   0   0   0   0   0   0   0   0   0   0   0   0   0   0   0   0   0   0\n",
      "  0   0   0   0   0   0   0   0   0   0   0   0   0   0   0   0   0   0   0   0   0   0   0   1   1   0   0   0\n",
      "  0   0   0   0   0   1  32  26  32   3   3   0   2   0   0   0   0   0   0   0   0   0   7 115 160 125  18   0\n",
      "  0   0   0   0   7 127 243 238 245 186 202 140 157  22   0   0   0   0   0   0   0  34 175 251 254 250  37   0\n",
      "  0   0   0   0  18 169 217 228 234 252 251 253 253 189 128  33   0   0   0   4  91 231 254 252 250 206  20   0\n",
      "  0   0   0   0   0  21  39  69  94 170 142 204 234 252 249 163  22   0   5  84 221 254 235 173 137  46   1   0\n",
      "  0   0   0   0   0   0   0   0   0   2   0   4  57 183 232 254 218  52  89 250 254 220  78   3   0   0   0   0\n",
      "  0   0   0   0   0   0   0   0   0   0   0   0   0   3  36 221 254 250 240 254 207  24   0   0   0   0   0   0\n",
      "  0   0   0   0   0   0   0   0   0   0   0   0   0   0   0 129 254 254 253 175  33   0   0   0   0   0   0   0\n",
      "  0   0   0   0   0   0   0   0   0   0   0   0   0   0   9 177 254 191 145   9   0   0   0   0   0   0   0   0\n",
      "  0   0   0   0   0   0   0   0   0   0   0   0   4  79 165 253 246  46   1   0   0   0   0   0   0   0   0   0\n",
      "  0   0   0   0   0   0   0   0   0   0   0   5 127 247 254 254 191   4   0   0   0   0   0   0   0   0   0   0\n",
      "  0   0   0   0   0   0   0   0   0   0   7 100 250 249 221 138  22   0   0   0   0   0   0   0   0   0   0   0\n",
      "  0   0   0   0   0   0   0   0   0  22 175 251 234 122  22   0   0   0   0   0   0   0   0   0   0   0   0   0\n",
      "  0   0   0   0   0   0   0   1  36 196 254 221  67   0   0   0   0   0   0   0   0   0   0   0   0   0   0   0\n",
      "  0   0   0   0   0   0   6  84 243 248 203  35   0   0   0   0   0   0   0   0   0   0   0   0   0   0   0   0\n",
      "  0   0   0   0   0   9 162 240 251 159   6   0   0   0   0   0   0   0   0   0   0   0   0   0   0   0   0   0\n",
      "  0   0   0   7  34 159 253 234  95   7   0   0   0   0   0   0   0   0   0   0   0   0   0   0   0   0   0   0\n",
      "  0   0  20 163 245 249 222  67   0   0   0   0   0   0   0   0   0   0   0   0   0   0   0   0   0   0   0   0\n",
      "  0   5 115 247 255 254 139   3   0   0   0   0   0   0   0   0   0   0   0   0   0   0   0   0   0   0   0   0\n",
      "  0  36 236 254 251 231  34   0   0   0   0   0   0   0   0   0   0   0   0   0   0   0   0   0   0   0   0   0\n",
      "  0  32 229 241  76  43   0   0   0   0   0   0   0   0   0   0   0   0   0   0   0   0   0   0   0   0   0   0\n",
      "  0   1  21  32   1   0   0   0   0   0   0   0   0   0   0   0   0   0   0   0   0   0   0   0   0   0   0   0\n",
      "  0   0   0   0   0   0   0   0   0   0   0   0   0   0   0   0   0   0   0   0   0   0   0   0   0   0   0   0\n",
      "  0   0   0   0   0   0   0   0   0   0   0   0   0   0   0   0   0   0   0   0   0   0   0   0   0   0   0   0\n",
      "  0   0   0   0   0   0   0   0   0   0   0   0   0   0   0   0   0   0   0   0   0   0   0   0   0   0   0   0\n"
     ]
    }
   ],
   "source": [
    "for image, label in ds_train.take(1):\n",
    "    img = image.numpy().squeeze()   # shape (28,28)\n",
    "    lbl = label.numpy()\n",
    "\n",
    "    # Convert label number → letter (1=A, 2=B, ...)\n",
    "    label_map = {i: ch for i, ch in enumerate(string.ascii_uppercase, start=1)}\n",
    "    letter = label_map.get(lbl, str(lbl))\n",
    "\n",
    "    # Show the image\n",
    "    plt.imshow(img, cmap=\"gray\")\n",
    "    plt.xticks([])\n",
    "    plt.yticks([])\n",
    "    plt.grid(False)\n",
    "    plt.title(f\"Label: {letter} ({lbl})\")\n",
    "    plt.show()\n",
    "\n",
    "    # Print pixel matrix row by row\n",
    "    print(\"Pixel values:\")\n",
    "    for row in img:\n",
    "        print(\" \".join(f\"{pixel:3}\" for pixel in row))"
   ]
  },
  {
   "cell_type": "markdown",
   "id": "8b75951f",
   "metadata": {},
   "source": [
    "\n",
    "In this section, we will visualize an image from the **EMNIST dataset**, display its corresponding label as a letter, and print the pixel matrix for the image. \n",
    "\n",
    "- The **image** is shown using **matplotlib**, and the **label** is mapped from numeric values (1=A, 2=B, ...) to letters.\n",
    "- The **pixel matrix** is printed row by row to observe the pixel intensity values for each pixel in the image.\n",
    "\n",
    "This helps in understanding how the image looks, its label, and its pixel values, which is useful for debugging and analyzing the data.\n",
    "\n"
   ]
  },
  {
   "cell_type": "markdown",
   "id": "02cbd99e",
   "metadata": {},
   "source": [
    "# <a id='toc6_'></a>[**Pre-Processing**](#toc0_)"
   ]
  },
  {
   "cell_type": "markdown",
   "id": "d5405f3c",
   "metadata": {},
   "source": [
    "## <a id='toc6_1_'></a>[Checking Null Values](#toc0_)"
   ]
  },
  {
   "cell_type": "code",
   "execution_count": 9,
   "id": "40aa3b24",
   "metadata": {},
   "outputs": [
    {
     "name": "stdout",
     "output_type": "stream",
     "text": [
      "NaN found?  No\n",
      "Infinite values found?  No\n"
     ]
    }
   ],
   "source": [
    "has_nan = False\n",
    "has_inf = False\n",
    "\n",
    "for x, y in ds_train:   # loop through dataset batches\n",
    "    x_np = x.numpy()\n",
    "    if np.isnan(x_np).any():\n",
    "        has_nan = True\n",
    "    if np.isinf(x_np).any():\n",
    "        has_inf = True\n",
    "\n",
    "print(f\"NaN found? {'Yes' if has_nan else ' No'}\")\n",
    "print(f\"Infinite values found? {' Yes' if has_inf else ' No'}\")\n",
    "\n"
   ]
  },
  {
   "cell_type": "markdown",
   "id": "93b7bb7b",
   "metadata": {},
   "source": [
    "## <a id='toc6_2_'></a>[Converting EMNIST Dataset to Numpy Arrays and Normalizing](#toc0_)\n",
    "\n",
    "In this section, we convert the EMNIST images and labels from the TensorFlow Dataset format to **numpy arrays**. Additionally, we **normalize the images** by scaling pixel values to the range `[0, 1]` by dividing by `255.0`. This normalization ensures the model can train more efficiently.\n",
    "\n",
    "- **Images** are converted from the TensorFlow dataset to numpy arrays and normalized to a floating-point format with values between `0` and `1`.\n",
    "- **Labels** are extracted as integers from the dataset.\n",
    "\n",
    "We also check the **shape**, **dtype**, and **min/max values** for both the **training** and **testing** datasets to ensure the conversion is successful.\n",
    "\n"
   ]
  },
  {
   "cell_type": "code",
   "execution_count": 10,
   "id": "d5f4b843",
   "metadata": {},
   "outputs": [
    {
     "name": "stdout",
     "output_type": "stream",
     "text": [
      "Train: (88800, 28, 28, 1) float32 0.0 1.0\n",
      "Test : (14800, 28, 28, 1) float32 0.0 1.0\n"
     ]
    }
   ],
   "source": [
    "# Convert to numpy arrays\n",
    "train_images = np.array([img for img, _ in tfds.as_numpy(ds_train)], dtype=\"float32\") / 255.0\n",
    "train_labels = np.array([lbl for _, lbl in tfds.as_numpy(ds_train)], dtype=\"int32\")\n",
    "\n",
    "test_images  = np.array([img for img, _ in tfds.as_numpy(ds_test)], dtype=\"float32\") / 255.0\n",
    "test_labels  = np.array([lbl for _, lbl in tfds.as_numpy(ds_test)], dtype=\"int32\")\n",
    "\n",
    "# Check\n",
    "print(\"Train:\", train_images.shape, train_images.dtype, train_images.min(), train_images.max())\n",
    "print(\"Test :\", test_images.shape, test_images.dtype, test_images.min(), test_images.max())\n",
    "\n"
   ]
  },
  {
   "cell_type": "markdown",
   "id": "e2311c5b",
   "metadata": {},
   "source": [
    "The code above extracts **images** and **labels** from the EMNIST training and test datasets, converting them into **numpy arrays** for easier manipulation. After extracting the images, we normalize the pixel values by dividing them by `255.0` so that each pixel's value lies between `0` and `1`, which helps with model convergence during training.\n",
    "\n",
    "We also print the following information for both the **training** and **test** sets to ensure that the data is processed correctly:\n",
    "1. **Shape**: The dimensions of the data (should be `(num_samples, 28, 28)` for the images).\n",
    "2. **Data Type**: The data type of the images and labels (should be `float32` for images and `int32` for labels).\n",
    "3. **Min and Max values**: To ensure that the pixel values are in the correct range `[0, 1]` after normalization.\n",
    "\n",
    "This step is crucial before feeding the data into a neural network, as it ensures the input data is appropriately preprocessed for training.\n"
   ]
  },
  {
   "cell_type": "markdown",
   "id": "aa618f02",
   "metadata": {},
   "source": [
    "# <a id='toc7_'></a>[**CNN Model**](#toc0_)"
   ]
  },
  {
   "cell_type": "markdown",
   "id": "4c6dec7a",
   "metadata": {},
   "source": [
    "## <a id='toc7_1_'></a>[Model Building](#toc0_)"
   ]
  },
  {
   "cell_type": "code",
   "execution_count": 11,
   "id": "7eb735c4",
   "metadata": {},
   "outputs": [
    {
     "name": "stdout",
     "output_type": "stream",
     "text": [
      "WARNING:tensorflow:From c:\\Users\\DELL\\miniconda3\\envs\\tf_env\\lib\\site-packages\\keras\\src\\backend.py:873: The name tf.get_default_graph is deprecated. Please use tf.compat.v1.get_default_graph instead.\n",
      "\n"
     ]
    },
    {
     "name": "stderr",
     "output_type": "stream",
     "text": [
      "WARNING:tensorflow:From c:\\Users\\DELL\\miniconda3\\envs\\tf_env\\lib\\site-packages\\keras\\src\\backend.py:873: The name tf.get_default_graph is deprecated. Please use tf.compat.v1.get_default_graph instead.\n",
      "\n"
     ]
    },
    {
     "name": "stdout",
     "output_type": "stream",
     "text": [
      "WARNING:tensorflow:From c:\\Users\\DELL\\miniconda3\\envs\\tf_env\\lib\\site-packages\\keras\\src\\layers\\pooling\\max_pooling2d.py:161: The name tf.nn.max_pool is deprecated. Please use tf.nn.max_pool2d instead.\n",
      "\n"
     ]
    },
    {
     "name": "stderr",
     "output_type": "stream",
     "text": [
      "WARNING:tensorflow:From c:\\Users\\DELL\\miniconda3\\envs\\tf_env\\lib\\site-packages\\keras\\src\\layers\\pooling\\max_pooling2d.py:161: The name tf.nn.max_pool is deprecated. Please use tf.nn.max_pool2d instead.\n",
      "\n"
     ]
    },
    {
     "name": "stdout",
     "output_type": "stream",
     "text": [
      "WARNING:tensorflow:From c:\\Users\\DELL\\miniconda3\\envs\\tf_env\\lib\\site-packages\\keras\\src\\optimizers\\__init__.py:309: The name tf.train.Optimizer is deprecated. Please use tf.compat.v1.train.Optimizer instead.\n",
      "\n"
     ]
    },
    {
     "name": "stderr",
     "output_type": "stream",
     "text": [
      "WARNING:tensorflow:From c:\\Users\\DELL\\miniconda3\\envs\\tf_env\\lib\\site-packages\\keras\\src\\optimizers\\__init__.py:309: The name tf.train.Optimizer is deprecated. Please use tf.compat.v1.train.Optimizer instead.\n",
      "\n"
     ]
    }
   ],
   "source": [
    "model = models.Sequential([\n",
    "    layers.Conv2D(32, (3,3), activation=\"relu\", input_shape=(28,28,1)),\n",
    "    layers.MaxPooling2D((2,2)),\n",
    "\n",
    "    layers.Conv2D(64, (3,3), activation=\"relu\"),\n",
    "    layers.MaxPooling2D((2,2)),\n",
    "\n",
    "    layers.Flatten(),\n",
    "    layers.Dense(128, activation=\"relu\"),\n",
    "    layers.Dense(27, activation=\"softmax\")  # 27 because EMNIST Letters has 26 letters + 1 (labels 1–26, 0 unused)\n",
    "])\n",
    "\n",
    "# Compile the model\n",
    "model.compile(\n",
    "    optimizer=\"adam\",\n",
    "    loss=\"sparse_categorical_crossentropy\",\n",
    "    metrics=[\"accuracy\"]\n",
    ")\n",
    "\n",
    "\n"
   ]
  },
  {
   "cell_type": "markdown",
   "id": "db25ce38",
   "metadata": {},
   "source": [
    "## <a id='toc7_2_'></a>[Model Summary](#toc0_)"
   ]
  },
  {
   "cell_type": "code",
   "execution_count": 12,
   "id": "3188141d",
   "metadata": {},
   "outputs": [
    {
     "name": "stdout",
     "output_type": "stream",
     "text": [
      "Model: \"sequential\"\n",
      "_________________________________________________________________\n",
      " Layer (type)                Output Shape              Param #   \n",
      "=================================================================\n",
      " conv2d (Conv2D)             (None, 26, 26, 32)        320       \n",
      "                                                                 \n",
      " max_pooling2d (MaxPooling2  (None, 13, 13, 32)        0         \n",
      " D)                                                              \n",
      "                                                                 \n",
      " conv2d_1 (Conv2D)           (None, 11, 11, 64)        18496     \n",
      "                                                                 \n",
      " max_pooling2d_1 (MaxPoolin  (None, 5, 5, 64)          0         \n",
      " g2D)                                                            \n",
      "                                                                 \n",
      " flatten (Flatten)           (None, 1600)              0         \n",
      "                                                                 \n",
      " dense (Dense)               (None, 128)               204928    \n",
      "                                                                 \n",
      " dense_1 (Dense)             (None, 27)                3483      \n",
      "                                                                 \n",
      "=================================================================\n",
      "Total params: 227227 (887.61 KB)\n",
      "Trainable params: 227227 (887.61 KB)\n",
      "Non-trainable params: 0 (0.00 Byte)\n",
      "_________________________________________________________________\n"
     ]
    }
   ],
   "source": [
    "model.summary()"
   ]
  },
  {
   "cell_type": "markdown",
   "id": "56836d13",
   "metadata": {},
   "source": [
    "## <a id='toc7_3_'></a>[Model Training](#toc0_)"
   ]
  },
  {
   "cell_type": "code",
   "execution_count": 13,
   "id": "1f3cb48f",
   "metadata": {},
   "outputs": [
    {
     "name": "stdout",
     "output_type": "stream",
     "text": [
      "Epoch 1/10\n",
      "WARNING:tensorflow:From c:\\Users\\DELL\\miniconda3\\envs\\tf_env\\lib\\site-packages\\keras\\src\\utils\\tf_utils.py:492: The name tf.ragged.RaggedTensorValue is deprecated. Please use tf.compat.v1.ragged.RaggedTensorValue instead.\n",
      "\n"
     ]
    },
    {
     "name": "stderr",
     "output_type": "stream",
     "text": [
      "WARNING:tensorflow:From c:\\Users\\DELL\\miniconda3\\envs\\tf_env\\lib\\site-packages\\keras\\src\\utils\\tf_utils.py:492: The name tf.ragged.RaggedTensorValue is deprecated. Please use tf.compat.v1.ragged.RaggedTensorValue instead.\n",
      "\n"
     ]
    },
    {
     "name": "stdout",
     "output_type": "stream",
     "text": [
      "WARNING:tensorflow:From c:\\Users\\DELL\\miniconda3\\envs\\tf_env\\lib\\site-packages\\keras\\src\\engine\\base_layer_utils.py:384: The name tf.executing_eagerly_outside_functions is deprecated. Please use tf.compat.v1.executing_eagerly_outside_functions instead.\n",
      "\n"
     ]
    },
    {
     "name": "stderr",
     "output_type": "stream",
     "text": [
      "WARNING:tensorflow:From c:\\Users\\DELL\\miniconda3\\envs\\tf_env\\lib\\site-packages\\keras\\src\\engine\\base_layer_utils.py:384: The name tf.executing_eagerly_outside_functions is deprecated. Please use tf.compat.v1.executing_eagerly_outside_functions instead.\n",
      "\n"
     ]
    },
    {
     "name": "stdout",
     "output_type": "stream",
     "text": [
      "694/694 - 17s - loss: 0.6470 - accuracy: 0.8029 - val_loss: 0.3690 - val_accuracy: 0.8826 - 17s/epoch - 24ms/step\n",
      "Epoch 2/10\n",
      "694/694 - 16s - loss: 0.2926 - accuracy: 0.9053 - val_loss: 0.3097 - val_accuracy: 0.8984 - 16s/epoch - 23ms/step\n",
      "Epoch 3/10\n",
      "694/694 - 18s - loss: 0.2354 - accuracy: 0.9208 - val_loss: 0.2804 - val_accuracy: 0.9035 - 18s/epoch - 26ms/step\n",
      "Epoch 4/10\n",
      "694/694 - 19s - loss: 0.2039 - accuracy: 0.9311 - val_loss: 0.2667 - val_accuracy: 0.9089 - 19s/epoch - 27ms/step\n",
      "Epoch 5/10\n",
      "694/694 - 18s - loss: 0.1814 - accuracy: 0.9378 - val_loss: 0.2481 - val_accuracy: 0.9142 - 18s/epoch - 26ms/step\n",
      "Epoch 6/10\n",
      "694/694 - 17s - loss: 0.1610 - accuracy: 0.9436 - val_loss: 0.2474 - val_accuracy: 0.9172 - 17s/epoch - 25ms/step\n",
      "Epoch 7/10\n",
      "694/694 - 17s - loss: 0.1461 - accuracy: 0.9479 - val_loss: 0.2380 - val_accuracy: 0.9213 - 17s/epoch - 25ms/step\n",
      "Epoch 8/10\n",
      "694/694 - 19s - loss: 0.1333 - accuracy: 0.9510 - val_loss: 0.2554 - val_accuracy: 0.9190 - 19s/epoch - 27ms/step\n",
      "Epoch 9/10\n",
      "694/694 - 18s - loss: 0.1202 - accuracy: 0.9554 - val_loss: 0.2530 - val_accuracy: 0.9185 - 18s/epoch - 26ms/step\n",
      "Epoch 10/10\n",
      "694/694 - 19s - loss: 0.1097 - accuracy: 0.9583 - val_loss: 0.2393 - val_accuracy: 0.9226 - 19s/epoch - 27ms/step\n"
     ]
    }
   ],
   "source": [
    "# Train the model\n",
    "history = model.fit(\n",
    "    train_images, train_labels,\n",
    "    epochs=10,                 # You can increase to 15–20 for better accuracy\n",
    "    batch_size=128,            # Common batch size for EMNIST\n",
    "    validation_data=(test_images, test_labels),\n",
    "    verbose=2\n",
    ")\n"
   ]
  },
  {
   "cell_type": "markdown",
   "id": "ee733d3a",
   "metadata": {},
   "source": [
    "## <a id='toc7_4_'></a>[Model Evaluation](#toc0_)"
   ]
  },
  {
   "cell_type": "code",
   "execution_count": 14,
   "id": "d50e421b",
   "metadata": {},
   "outputs": [
    {
     "name": "stdout",
     "output_type": "stream",
     "text": [
      "463/463 - 2s - loss: 0.2393 - accuracy: 0.9226 - 2s/epoch - 4ms/step\n",
      "\n",
      "Test accuracy: 0.9226\n"
     ]
    }
   ],
   "source": [
    "# Evaluate on test data\n",
    "test_loss, test_acc = model.evaluate(test_images, test_labels, verbose=2)\n",
    "print(f\"\\nTest accuracy: {test_acc:.4f}\")\n"
   ]
  },
  {
   "cell_type": "markdown",
   "id": "ece149bc",
   "metadata": {},
   "source": [
    "## <a id='toc7_5_'></a>[Plot of Training and Validation Accuracy for CNN Model](#toc0_)"
   ]
  },
  {
   "cell_type": "code",
   "execution_count": 15,
   "id": "4f50f139",
   "metadata": {},
   "outputs": [
    {
     "data": {
      "image/png": "[encoded data removed]",
      "text/plain": [
       "<Figure size 1200x500 with 2 Axes>"
      ]
     },
     "metadata": {},
     "output_type": "display_data"
    }
   ],
   "source": [
    "plt.figure(figsize=(12,5))\n",
    "\n",
    "# Accuracy curve\n",
    "plt.subplot(1, 2, 1)\n",
    "plt.plot(history.history['accuracy'], label='Train Accuracy')\n",
    "plt.plot(history.history['val_accuracy'], label='Validation Accuracy')\n",
    "plt.title('Accuracy over Epochs')\n",
    "plt.xlabel('Epochs')\n",
    "plt.ylabel('Accuracy')\n",
    "plt.legend()\n",
    "\n",
    "# Loss curve\n",
    "plt.subplot(1, 2, 2)\n",
    "plt.plot(history.history['loss'], label='Train Loss')\n",
    "plt.plot(history.history['val_loss'], label='Validation Loss')\n",
    "plt.title('Loss over Epochs')\n",
    "plt.xlabel('Epochs')\n",
    "plt.ylabel('Loss')\n",
    "plt.legend()\n",
    "\n",
    "plt.show()\n"
   ]
  },
  {
   "cell_type": "markdown",
   "id": "a8dd4715",
   "metadata": {},
   "source": [
    "## <a id='toc7_6_'></a>[Training Analysis](#toc0_)"
   ]
  },
  {
   "cell_type": "markdown",
   "id": "afc70bf4",
   "metadata": {},
   "source": [
    "The **accuracy plot** illustrates that the training accuracy shows a steady improvement across epochs, starting around **80%** and reaching approximately **96%** by the final epoch. The validation accuracy follows a similar upward trend, stabilizing around **92%**, which demonstrates the model’s strong ability to generalize to unseen EMNIST samples.\n",
    "\n",
    "The **loss curve** shows a consistent decrease in training loss from around **0.65** to **0.10**, indicating effective optimization and convergence. The validation loss also reduces smoothly, with only a small gap between the training and validation losses. This stable pattern signifies that the model is **learning efficiently** without significant overfitting.\n",
    "\n",
    "Overall, the training results confirm that the EMNIST letter recognition model successfully learns meaningful features from handwritten letters and maintains robust performance on validation data.\n"
   ]
  },
  {
   "cell_type": "markdown",
   "id": "089009af",
   "metadata": {},
   "source": [
    "## <a id='toc7_7_'></a>[Saving Model](#toc0_)"
   ]
  },
  {
   "cell_type": "code",
   "execution_count": 16,
   "id": "e0c7da48",
   "metadata": {},
   "outputs": [
    {
     "name": "stdout",
     "output_type": "stream",
     "text": [
      " Model saved successfully at models_saved/emnist_model.h5\n"
     ]
    }
   ],
   "source": [
    "model.save(\"models_saved/emnist_model.h5\")\n",
    "\n",
    "print(\" Model saved successfully at models_saved/emnist_model.h5\")"
   ]
  }
 ],
 "metadata": {
  "kernelspec": {
   "display_name": "tf_env",
   "language": "python",
   "name": "python3"
  },
  "language_info": {
   "codemirror_mode": {
    "name": "ipython",
    "version": 3
   },
   "file_extension": ".py",
   "mimetype": "text/x-python",
   "name": "python",
   "nbconvert_exporter": "python",
   "pygments_lexer": "ipython3",
   "version": "3.10.18"
  }
 },
 "nbformat": 4,
 "nbformat_minor": 5
}
